{
 "cells": [
  {
   "cell_type": "code",
   "execution_count": null,
   "id": "f2aaa8d7",
   "metadata": {},
   "outputs": [],
   "source": [
    "!pip install tweepy"
   ]
  },
  {
   "cell_type": "code",
   "execution_count": 1,
   "id": "1b796ca7",
   "metadata": {},
   "outputs": [],
   "source": [
    "import tweepy"
   ]
  },
  {
   "cell_type": "code",
   "execution_count": 2,
   "id": "bda810e9",
   "metadata": {},
   "outputs": [],
   "source": [
    "CONSUMER_KEY = \"8eNq3igfkscoEnFgEnTtlI84o\"\n",
    "CONSUMER_SECRET = \"8bz6YfmRK3iJ68jC5kUWi66pOjReRtsL6jzQWVBs88VhCEguQU\"\n",
    "ACCESS_TOKEN = \"1396401069488435201-4b4KDKPQVrqW9trtKgxITqTpHoZKVS\"\n",
    "ACCESS_SECRET = \"LGC0blth0tKnzS4dJkMsfAjngm0JiwQ7YRBd0V0LOMjpe\""
   ]
  },
  {
   "cell_type": "code",
   "execution_count": 3,
   "id": "9d15a471",
   "metadata": {},
   "outputs": [],
   "source": [
    "auth = tweepy.OAuthHandler(consumer_key=CONSUMER_KEY, consumer_secret=CONSUMER_SECRET)\n",
    "auth.set_access_token(ACCESS_TOKEN, ACCESS_SECRET)\n",
    "api = tweepy.API(auth, wait_on_rate_limit=True)"
   ]
  },
  {
   "cell_type": "code",
   "execution_count": 4,
   "id": "a59c836b",
   "metadata": {},
   "outputs": [],
   "source": [
    "hashTag = \"#indvseng\"\n",
    "date_since = \"2022-07-10\""
   ]
  },
  {
   "cell_type": "code",
   "execution_count": 6,
   "id": "d7039233",
   "metadata": {},
   "outputs": [],
   "source": [
    "tweets = tweepy.Cursor(api.search_tweets, q=hashTag, since=date_since).items(20)"
   ]
  },
  {
   "cell_type": "code",
   "execution_count": 7,
   "id": "d1d75e63",
   "metadata": {},
   "outputs": [
    {
     "data": {
      "text/plain": [
       "<tweepy.cursor.ItemIterator at 0x1a08d12e220>"
      ]
     },
     "execution_count": 7,
     "metadata": {},
     "output_type": "execute_result"
    }
   ],
   "source": [
    "tweets"
   ]
  },
  {
   "cell_type": "code",
   "execution_count": 8,
   "id": "e81b2502",
   "metadata": {},
   "outputs": [
    {
     "name": "stderr",
     "output_type": "stream",
     "text": [
      "Unexpected parameter: since\n",
      "Unexpected parameter: since\n"
     ]
    },
    {
     "name": "stdout",
     "output_type": "stream",
     "text": [
      "RT @SDhawan25: 9 years on, the bond is still strong 💪 @ImRo45 Congratulations to the Team India for the spectacular victory ✌️ #IndVsEng #O…\n",
      "RT @ImRaina: Brilliant performance by #TeamIndia in the first ODI against England. And many congratulations to @Jaspritbumrah93 for his gre…\n",
      "1️⃣3️⃣0️⃣7️⃣2️⃣0️⃣2️⃣2️⃣\n",
      "\n",
      "Most Runs Opening Pair (ODIs)\n",
      "🇮🇳 #Sachin #Sourav - 6609\n",
      "🇦🇺 Gilchrist-Hayden - 5372\n",
      "🏝 Gree… https://t.co/stiZUl78uS\n",
      "RT @SDhawan25: 9 years on, the bond is still strong 💪 @ImRo45 Congratulations to the Team India for the spectacular victory ✌️ #IndVsEng #O…\n",
      "RT @SDhawan25: 9 years on, the bond is still strong 💪 @ImRo45 Congratulations to the Team India for the spectacular victory ✌️ #IndVsEng #O…\n",
      "RT @SDhawan25: 9 years on, the bond is still strong 💪 @ImRo45 Congratulations to the Team India for the spectacular victory ✌️ #IndVsEng #O…\n",
      "RT @shubhankrmishra: ‘योगी का बुलडोज़र ’ सियासत से लेकर क्रिकेट की पिच तक !\n",
      "\n",
      "भारत-इंग्लैंड वनडे मैच देखने ओवल में पहुंचा CM Yogi का जबरा फै…\n",
      "RT @SDhawan25: 9 years on, the bond is still strong 💪 @ImRo45 Congratulations to the Team India for the spectacular victory ✌️ #IndVsEng #O…\n",
      "RT @SDhawan25: 9 years on, the bond is still strong 💪 @ImRo45 Congratulations to the Team India for the spectacular victory ✌️ #IndVsEng #O…\n",
      "RT @SDhawan25: 9 years on, the bond is still strong 💪 @ImRo45 Congratulations to the Team India for the spectacular victory ✌️ #IndVsEng #O…\n",
      "RT @anandji72: #AmarnathKaSach\n",
      "#bumrah\n",
      "#INDvsENG\n",
      "#Lion\n",
      "#Lionesses\n",
      "#Parliament\n",
      "#Parliamentbuilding\n",
      "#Parliamenthouse\n",
      "\n",
      "They Want…\n",
      "RT @SDhawan25: 9 years on, the bond is still strong 💪 @ImRo45 Congratulations to the Team India for the spectacular victory ✌️ #IndVsEng #O…\n",
      "RT @bobbymehra_17: #ENGvsIND #INDvsENG #IndianCricketTeam\n",
      "#RohitSharma #ShikharDhawan \n",
      "Rohit dhawan 🫂 ODI history to score 5,000 Runs.. htt…\n",
      "RT @iranjank11: What a day for Indian cricket team !!! Completely thrashed England's batting and bowling line up respectively . @BCCI\n",
      "Night…\n",
      "RT @shubhankrmishra: ‘योगी का बुलडोज़र ’ सियासत से लेकर क्रिकेट की पिच तक !\n",
      "\n",
      "भारत-इंग्लैंड वनडे मैच देखने ओवल में पहुंचा CM Yogi का जबरा फै…\n",
      "RT @DevGarewal21: Retweet for @realkrsna 👑\n",
      "Like for Emiway #ShameOnEmiway @RollingStoneIN @Ank1tKhanna @raftaarmusic #krsna #hiphop #rapper…\n",
      "RT @shubhankrmishra: ‘योगी का बुलडोज़र ’ सियासत से लेकर क्रिकेट की पिच तक !\n",
      "\n",
      "भारत-इंग्लैंड वनडे मैच देखने ओवल में पहुंचा CM Yogi का जबरा फै…\n",
      "RT @SDhawan25: 9 years on, the bond is still strong 💪 @ImRo45 Congratulations to the Team India for the spectacular victory ✌️ #IndVsEng #O…\n",
      "RT @SDhawan25: 9 years on, the bond is still strong 💪 @ImRo45 Congratulations to the Team India for the spectacular victory ✌️ #IndVsEng #O…\n",
      "RT @SadhguruJV: #JaspritBumrah's Amrit Mahotsav! Congratulations #TeamIndia. -Sg @Jaspritbumrah93 #INDvsENG\n"
     ]
    }
   ],
   "source": [
    "for data in tweets:\n",
    "    print(data.text)"
   ]
  },
  {
   "cell_type": "code",
   "execution_count": null,
   "id": "5b5057cb",
   "metadata": {},
   "outputs": [],
   "source": []
  }
 ],
 "metadata": {
  "kernelspec": {
   "display_name": "Python 3 (ipykernel)",
   "language": "python",
   "name": "python3"
  },
  "language_info": {
   "codemirror_mode": {
    "name": "ipython",
    "version": 3
   },
   "file_extension": ".py",
   "mimetype": "text/x-python",
   "name": "python",
   "nbconvert_exporter": "python",
   "pygments_lexer": "ipython3",
   "version": "3.9.7"
  }
 },
 "nbformat": 4,
 "nbformat_minor": 5
}
