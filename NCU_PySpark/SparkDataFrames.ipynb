{
 "cells": [
  {
   "cell_type": "code",
   "execution_count": 1,
   "id": "e08c12fa",
   "metadata": {},
   "outputs": [],
   "source": [
    "import os, sys\n",
    "from pyspark.sql import SparkSession"
   ]
  },
  {
   "cell_type": "code",
   "execution_count": 2,
   "id": "ea4e9b62",
   "metadata": {},
   "outputs": [],
   "source": [
    "os.environ['PYSPARK_PYTHON'] = sys.executable\n",
    "os.environ['PYSPARK_DRIVER_PYTHON'] = sys.executable"
   ]
  },
  {
   "cell_type": "code",
   "execution_count": 3,
   "id": "bcbd7d24",
   "metadata": {},
   "outputs": [],
   "source": [
    "spark = SparkSession.builder.master(\"local[*]\").appName(\"Example_3\").getOrCreate()"
   ]
  },
  {
   "cell_type": "code",
   "execution_count": 4,
   "id": "7a453d9b",
   "metadata": {},
   "outputs": [],
   "source": [
    "data = [\n",
    "    (\"John\", \"IT\", 45000),\n",
    "    (\"Max\", \"IT\", 50000),\n",
    "    (\"Shawn\", \"HR\", 35000),\n",
    "    (\"Nick\", \"HR\", 25000),\n",
    "    (\"Tom\", \"IT\", 75000),\n",
    "    (\"Matt\", \"IT\", 85000),\n",
    "    (\"Jeff\", \"HR\", 105000),\n",
    "    (\"Chris\", \"IT\", 40000),\n",
    "    (\"Tom\", \"IT\", 45000),\n",
    "]"
   ]
  },
  {
   "cell_type": "code",
   "execution_count": 5,
   "id": "a7d6b90c",
   "metadata": {},
   "outputs": [],
   "source": [
    "# Create DataFrame using RDD\n",
    "\n",
    "rdd = spark.sparkContext.parallelize(data)"
   ]
  },
  {
   "cell_type": "code",
   "execution_count": 6,
   "id": "ec846416",
   "metadata": {},
   "outputs": [],
   "source": [
    "df = rdd.toDF()"
   ]
  },
  {
   "cell_type": "code",
   "execution_count": 7,
   "id": "4597c559",
   "metadata": {},
   "outputs": [
    {
     "name": "stdout",
     "output_type": "stream",
     "text": [
      "+-----+---+------+\n",
      "|   _1| _2|    _3|\n",
      "+-----+---+------+\n",
      "| John| IT| 45000|\n",
      "|  Max| IT| 50000|\n",
      "|Shawn| HR| 35000|\n",
      "| Nick| HR| 25000|\n",
      "|  Tom| IT| 75000|\n",
      "| Matt| IT| 85000|\n",
      "| Jeff| HR|105000|\n",
      "|Chris| IT| 40000|\n",
      "|  Tom| IT| 45000|\n",
      "+-----+---+------+\n",
      "\n"
     ]
    }
   ],
   "source": [
    "df.show()"
   ]
  },
  {
   "cell_type": "code",
   "execution_count": 8,
   "id": "8db56071",
   "metadata": {},
   "outputs": [],
   "source": [
    "columns = ['Name', 'Department', 'Salary']\n",
    "df_2 = rdd.toDF(columns)"
   ]
  },
  {
   "cell_type": "code",
   "execution_count": 9,
   "id": "67241ea1",
   "metadata": {},
   "outputs": [
    {
     "name": "stdout",
     "output_type": "stream",
     "text": [
      "+-----+----------+------+\n",
      "| Name|Department|Salary|\n",
      "+-----+----------+------+\n",
      "| John|        IT| 45000|\n",
      "|  Max|        IT| 50000|\n",
      "|Shawn|        HR| 35000|\n",
      "| Nick|        HR| 25000|\n",
      "|  Tom|        IT| 75000|\n",
      "| Matt|        IT| 85000|\n",
      "| Jeff|        HR|105000|\n",
      "|Chris|        IT| 40000|\n",
      "|  Tom|        IT| 45000|\n",
      "+-----+----------+------+\n",
      "\n"
     ]
    }
   ],
   "source": [
    "df_2.show()"
   ]
  },
  {
   "cell_type": "code",
   "execution_count": 10,
   "id": "6cdb9761",
   "metadata": {},
   "outputs": [
    {
     "name": "stdout",
     "output_type": "stream",
     "text": [
      "root\n",
      " |-- Name: string (nullable = true)\n",
      " |-- Department: string (nullable = true)\n",
      " |-- Salary: long (nullable = true)\n",
      "\n"
     ]
    }
   ],
   "source": [
    "df_2.printSchema()"
   ]
  },
  {
   "cell_type": "code",
   "execution_count": 11,
   "id": "24a1bdb0",
   "metadata": {},
   "outputs": [],
   "source": [
    "# create dataframe using SparkSession\n",
    "df_2 = spark.createDataFrame(rdd).toDF(*columns)"
   ]
  },
  {
   "cell_type": "code",
   "execution_count": 12,
   "id": "0df7231c",
   "metadata": {},
   "outputs": [
    {
     "name": "stdout",
     "output_type": "stream",
     "text": [
      "root\n",
      " |-- Name: string (nullable = true)\n",
      " |-- Department: string (nullable = true)\n",
      " |-- Salary: long (nullable = true)\n",
      "\n"
     ]
    }
   ],
   "source": [
    "df_2.printSchema()"
   ]
  },
  {
   "cell_type": "code",
   "execution_count": 13,
   "id": "2a1375d0",
   "metadata": {},
   "outputs": [],
   "source": [
    "# Create DataFrame with Schema"
   ]
  },
  {
   "cell_type": "code",
   "execution_count": 14,
   "id": "397c00c8",
   "metadata": {},
   "outputs": [],
   "source": [
    "from pyspark.sql.types import StructType, StringType, IntegerType, StructField"
   ]
  },
  {
   "cell_type": "code",
   "execution_count": 15,
   "id": "504d5a49",
   "metadata": {},
   "outputs": [],
   "source": [
    "data = [\n",
    "    (\"John\", \"IT\", 45000, \"M\"),\n",
    "    (\"Max\", \"IT\", 50000, \"M\"),\n",
    "    (\"Shawn\", \"HR\", 35000, \"M\"),\n",
    "    (\"Nick\", \"HR\", 25000, \"M\"),\n",
    "    (\"Jenny\", \"IT\", 75000, \"F\"),\n",
    "    (\"Tina\", \"IT\", 85000, \"F\"),\n",
    "    (\"Nat\", \"HR\", 105000, \"\"),\n",
    "    (\"Chris\", \"IT\", 40000, \"M\"),\n",
    "    (\"Tom\", \"IT\", 45000, \"M\"),\n",
    "]\n",
    "\n",
    "schema = StructType([\n",
    "    StructField(\"Emp Name\", StringType()),\n",
    "    StructField(\"Emp Dept\", StringType()),\n",
    "    StructField(\"Emp Salary\", IntegerType()),\n",
    "    StructField(\"Emp Gender\", StringType())\n",
    "])"
   ]
  },
  {
   "cell_type": "code",
   "execution_count": 16,
   "id": "e3f984c4",
   "metadata": {},
   "outputs": [
    {
     "data": {
      "text/plain": [
       "StructType(List(StructField(Emp Name,StringType,true),StructField(Emp Dept,StringType,true),StructField(Emp Salary,IntegerType,true),StructField(Emp Gender,StringType,true)))"
      ]
     },
     "execution_count": 16,
     "metadata": {},
     "output_type": "execute_result"
    }
   ],
   "source": [
    "schema"
   ]
  },
  {
   "cell_type": "code",
   "execution_count": 17,
   "id": "99923890",
   "metadata": {},
   "outputs": [],
   "source": [
    "df = spark.createDataFrame(data=data, schema=schema)"
   ]
  },
  {
   "cell_type": "code",
   "execution_count": 18,
   "id": "a4f99d01",
   "metadata": {},
   "outputs": [
    {
     "name": "stdout",
     "output_type": "stream",
     "text": [
      "root\n",
      " |-- Emp Name: string (nullable = true)\n",
      " |-- Emp Dept: string (nullable = true)\n",
      " |-- Emp Salary: integer (nullable = true)\n",
      " |-- Emp Gender: string (nullable = true)\n",
      "\n"
     ]
    }
   ],
   "source": [
    "df.printSchema()"
   ]
  },
  {
   "cell_type": "code",
   "execution_count": 19,
   "id": "b28c28c8",
   "metadata": {},
   "outputs": [
    {
     "name": "stdout",
     "output_type": "stream",
     "text": [
      "+--------+--------+----------+----------+\n",
      "|Emp Name|Emp Dept|Emp Salary|Emp Gender|\n",
      "+--------+--------+----------+----------+\n",
      "|    John|      IT|     45000|         M|\n",
      "|     Max|      IT|     50000|         M|\n",
      "|   Shawn|      HR|     35000|         M|\n",
      "|    Nick|      HR|     25000|         M|\n",
      "|   Jenny|      IT|     75000|         F|\n",
      "|    Tina|      IT|     85000|         F|\n",
      "|     Nat|      HR|    105000|          |\n",
      "|   Chris|      IT|     40000|         M|\n",
      "|     Tom|      IT|     45000|         M|\n",
      "+--------+--------+----------+----------+\n",
      "\n"
     ]
    }
   ],
   "source": [
    "df.show()"
   ]
  },
  {
   "cell_type": "code",
   "execution_count": 24,
   "id": "d2f686dc",
   "metadata": {},
   "outputs": [],
   "source": [
    "# Create DataFrame using CSV\n",
    "df_2 = spark.read.csv('summer.csv',header=True)"
   ]
  },
  {
   "cell_type": "code",
   "execution_count": 25,
   "id": "bb3b19c3",
   "metadata": {},
   "outputs": [
    {
     "data": {
      "text/plain": [
       "Row(Year='1896', City='Athens', Sport='Aquatics', Discipline='Swimming', Athlete='HAJOS, Alfred', Country='HUN', Gender='Men', Event='100M Freestyle', Medal='Gold')"
      ]
     },
     "execution_count": 25,
     "metadata": {},
     "output_type": "execute_result"
    }
   ],
   "source": [
    "df_2.head()"
   ]
  },
  {
   "cell_type": "code",
   "execution_count": 26,
   "id": "ab576d9f",
   "metadata": {},
   "outputs": [
    {
     "data": {
      "text/plain": [
       "[Row(Year='1896', City='Athens', Sport='Aquatics', Discipline='Swimming', Athlete='HAJOS, Alfred', Country='HUN', Gender='Men', Event='100M Freestyle', Medal='Gold'),\n",
       " Row(Year='1896', City='Athens', Sport='Aquatics', Discipline='Swimming', Athlete='HERSCHMANN, Otto', Country='AUT', Gender='Men', Event='100M Freestyle', Medal='Silver'),\n",
       " Row(Year='1896', City='Athens', Sport='Aquatics', Discipline='Swimming', Athlete='DRIVAS, Dimitrios', Country='GRE', Gender='Men', Event='100M Freestyle For Sailors', Medal='Bronze'),\n",
       " Row(Year='1896', City='Athens', Sport='Aquatics', Discipline='Swimming', Athlete='MALOKINIS, Ioannis', Country='GRE', Gender='Men', Event='100M Freestyle For Sailors', Medal='Gold'),\n",
       " Row(Year='1896', City='Athens', Sport='Aquatics', Discipline='Swimming', Athlete='CHASAPIS, Spiridon', Country='GRE', Gender='Men', Event='100M Freestyle For Sailors', Medal='Silver')]"
      ]
     },
     "execution_count": 26,
     "metadata": {},
     "output_type": "execute_result"
    }
   ],
   "source": [
    "df_2.head(5)"
   ]
  },
  {
   "cell_type": "code",
   "execution_count": 27,
   "id": "ebddef35",
   "metadata": {},
   "outputs": [
    {
     "name": "stdout",
     "output_type": "stream",
     "text": [
      "+----+------+--------+----------+------------------+-------+------+--------------------+------+\n",
      "|Year|  City|   Sport|Discipline|           Athlete|Country|Gender|               Event| Medal|\n",
      "+----+------+--------+----------+------------------+-------+------+--------------------+------+\n",
      "|1896|Athens|Aquatics|  Swimming|     HAJOS, Alfred|    HUN|   Men|      100M Freestyle|  Gold|\n",
      "|1896|Athens|Aquatics|  Swimming|  HERSCHMANN, Otto|    AUT|   Men|      100M Freestyle|Silver|\n",
      "|1896|Athens|Aquatics|  Swimming| DRIVAS, Dimitrios|    GRE|   Men|100M Freestyle Fo...|Bronze|\n",
      "|1896|Athens|Aquatics|  Swimming|MALOKINIS, Ioannis|    GRE|   Men|100M Freestyle Fo...|  Gold|\n",
      "|1896|Athens|Aquatics|  Swimming|CHASAPIS, Spiridon|    GRE|   Men|100M Freestyle Fo...|Silver|\n",
      "+----+------+--------+----------+------------------+-------+------+--------------------+------+\n",
      "only showing top 5 rows\n",
      "\n"
     ]
    }
   ],
   "source": [
    "df_2.show(5)"
   ]
  },
  {
   "cell_type": "code",
   "execution_count": 49,
   "id": "39907b8b",
   "metadata": {},
   "outputs": [
    {
     "data": {
      "text/plain": [
       "(31165, 9)"
      ]
     },
     "execution_count": 49,
     "metadata": {},
     "output_type": "execute_result"
    }
   ],
   "source": [
    "# print shape of data frame\n",
    "df_2.count(), len(df_2.dtypes)"
   ]
  },
  {
   "cell_type": "code",
   "execution_count": 28,
   "id": "9e282020",
   "metadata": {},
   "outputs": [],
   "source": [
    "top_5 = df_2.take(5)"
   ]
  },
  {
   "cell_type": "code",
   "execution_count": 30,
   "id": "63319f73",
   "metadata": {},
   "outputs": [
    {
     "data": {
      "text/plain": [
       "[Row(Year='2012', City='London', Sport='Wrestling', Discipline='Wrestling Freestyle', Athlete='JANIKOWSKI, Damian', Country='POL', Gender='Men', Event='Wg 84 KG', Medal='Bronze'),\n",
       " Row(Year='2012', City='London', Sport='Wrestling', Discipline='Wrestling Freestyle', Athlete='REZAEI, Ghasem Gholamreza', Country='IRI', Gender='Men', Event='Wg 96 KG', Medal='Gold'),\n",
       " Row(Year='2012', City='London', Sport='Wrestling', Discipline='Wrestling Freestyle', Athlete='TOTROV, Rustam', Country='RUS', Gender='Men', Event='Wg 96 KG', Medal='Silver'),\n",
       " Row(Year='2012', City='London', Sport='Wrestling', Discipline='Wrestling Freestyle', Athlete='ALEKSANYAN, Artur', Country='ARM', Gender='Men', Event='Wg 96 KG', Medal='Bronze'),\n",
       " Row(Year='2012', City='London', Sport='Wrestling', Discipline='Wrestling Freestyle', Athlete='LIDBERG, Jimmy', Country='SWE', Gender='Men', Event='Wg 96 KG', Medal='Bronze')]"
      ]
     },
     "execution_count": 30,
     "metadata": {},
     "output_type": "execute_result"
    }
   ],
   "source": [
    "df_2.tail(5)"
   ]
  },
  {
   "cell_type": "code",
   "execution_count": 34,
   "id": "808f2fd9",
   "metadata": {},
   "outputs": [
    {
     "name": "stdout",
     "output_type": "stream",
     "text": [
      "+----+------+--------+----------+------------------+-------+------+--------------------+------+\n",
      "|Year|  City|   Sport|Discipline|           Athlete|Country|Gender|               Event| Medal|\n",
      "+----+------+--------+----------+------------------+-------+------+--------------------+------+\n",
      "|1896|Athens|Aquatics|  Swimming|     HAJOS, Alfred|    HUN|   Men|      100M Freestyle|  Gold|\n",
      "|1896|Athens|Aquatics|  Swimming|  HERSCHMANN, Otto|    AUT|   Men|      100M Freestyle|Silver|\n",
      "|1896|Athens|Aquatics|  Swimming| DRIVAS, Dimitrios|    GRE|   Men|100M Freestyle Fo...|Bronze|\n",
      "|1896|Athens|Aquatics|  Swimming|MALOKINIS, Ioannis|    GRE|   Men|100M Freestyle Fo...|  Gold|\n",
      "|1896|Athens|Aquatics|  Swimming|CHASAPIS, Spiridon|    GRE|   Men|100M Freestyle Fo...|Silver|\n",
      "+----+------+--------+----------+------------------+-------+------+--------------------+------+\n",
      "\n"
     ]
    }
   ],
   "source": [
    "df_2.limit(5).show()"
   ]
  },
  {
   "cell_type": "code",
   "execution_count": 35,
   "id": "d4af64d3",
   "metadata": {},
   "outputs": [
    {
     "data": {
      "text/html": [
       "<div>\n",
       "<style scoped>\n",
       "    .dataframe tbody tr th:only-of-type {\n",
       "        vertical-align: middle;\n",
       "    }\n",
       "\n",
       "    .dataframe tbody tr th {\n",
       "        vertical-align: top;\n",
       "    }\n",
       "\n",
       "    .dataframe thead th {\n",
       "        text-align: right;\n",
       "    }\n",
       "</style>\n",
       "<table border=\"1\" class=\"dataframe\">\n",
       "  <thead>\n",
       "    <tr style=\"text-align: right;\">\n",
       "      <th></th>\n",
       "      <th>Year</th>\n",
       "      <th>City</th>\n",
       "      <th>Sport</th>\n",
       "      <th>Discipline</th>\n",
       "      <th>Athlete</th>\n",
       "      <th>Country</th>\n",
       "      <th>Gender</th>\n",
       "      <th>Event</th>\n",
       "      <th>Medal</th>\n",
       "    </tr>\n",
       "  </thead>\n",
       "  <tbody>\n",
       "    <tr>\n",
       "      <th>0</th>\n",
       "      <td>1896</td>\n",
       "      <td>Athens</td>\n",
       "      <td>Aquatics</td>\n",
       "      <td>Swimming</td>\n",
       "      <td>HAJOS, Alfred</td>\n",
       "      <td>HUN</td>\n",
       "      <td>Men</td>\n",
       "      <td>100M Freestyle</td>\n",
       "      <td>Gold</td>\n",
       "    </tr>\n",
       "    <tr>\n",
       "      <th>1</th>\n",
       "      <td>1896</td>\n",
       "      <td>Athens</td>\n",
       "      <td>Aquatics</td>\n",
       "      <td>Swimming</td>\n",
       "      <td>HERSCHMANN, Otto</td>\n",
       "      <td>AUT</td>\n",
       "      <td>Men</td>\n",
       "      <td>100M Freestyle</td>\n",
       "      <td>Silver</td>\n",
       "    </tr>\n",
       "    <tr>\n",
       "      <th>2</th>\n",
       "      <td>1896</td>\n",
       "      <td>Athens</td>\n",
       "      <td>Aquatics</td>\n",
       "      <td>Swimming</td>\n",
       "      <td>DRIVAS, Dimitrios</td>\n",
       "      <td>GRE</td>\n",
       "      <td>Men</td>\n",
       "      <td>100M Freestyle For Sailors</td>\n",
       "      <td>Bronze</td>\n",
       "    </tr>\n",
       "    <tr>\n",
       "      <th>3</th>\n",
       "      <td>1896</td>\n",
       "      <td>Athens</td>\n",
       "      <td>Aquatics</td>\n",
       "      <td>Swimming</td>\n",
       "      <td>MALOKINIS, Ioannis</td>\n",
       "      <td>GRE</td>\n",
       "      <td>Men</td>\n",
       "      <td>100M Freestyle For Sailors</td>\n",
       "      <td>Gold</td>\n",
       "    </tr>\n",
       "    <tr>\n",
       "      <th>4</th>\n",
       "      <td>1896</td>\n",
       "      <td>Athens</td>\n",
       "      <td>Aquatics</td>\n",
       "      <td>Swimming</td>\n",
       "      <td>CHASAPIS, Spiridon</td>\n",
       "      <td>GRE</td>\n",
       "      <td>Men</td>\n",
       "      <td>100M Freestyle For Sailors</td>\n",
       "      <td>Silver</td>\n",
       "    </tr>\n",
       "  </tbody>\n",
       "</table>\n",
       "</div>"
      ],
      "text/plain": [
       "   Year    City     Sport Discipline             Athlete Country Gender  \\\n",
       "0  1896  Athens  Aquatics   Swimming       HAJOS, Alfred     HUN    Men   \n",
       "1  1896  Athens  Aquatics   Swimming    HERSCHMANN, Otto     AUT    Men   \n",
       "2  1896  Athens  Aquatics   Swimming   DRIVAS, Dimitrios     GRE    Men   \n",
       "3  1896  Athens  Aquatics   Swimming  MALOKINIS, Ioannis     GRE    Men   \n",
       "4  1896  Athens  Aquatics   Swimming  CHASAPIS, Spiridon     GRE    Men   \n",
       "\n",
       "                        Event   Medal  \n",
       "0              100M Freestyle    Gold  \n",
       "1              100M Freestyle  Silver  \n",
       "2  100M Freestyle For Sailors  Bronze  \n",
       "3  100M Freestyle For Sailors    Gold  \n",
       "4  100M Freestyle For Sailors  Silver  "
      ]
     },
     "execution_count": 35,
     "metadata": {},
     "output_type": "execute_result"
    }
   ],
   "source": [
    "df_2.limit(5).toPandas()"
   ]
  },
  {
   "cell_type": "code",
   "execution_count": 36,
   "id": "bc94a5a1",
   "metadata": {},
   "outputs": [
    {
     "name": "stdout",
     "output_type": "stream",
     "text": [
      "+----+--------+------------------+------+\n",
      "|Year|   Sport|           Athlete| Medal|\n",
      "+----+--------+------------------+------+\n",
      "|1896|Aquatics|     HAJOS, Alfred|  Gold|\n",
      "|1896|Aquatics|  HERSCHMANN, Otto|Silver|\n",
      "|1896|Aquatics| DRIVAS, Dimitrios|Bronze|\n",
      "|1896|Aquatics|MALOKINIS, Ioannis|  Gold|\n",
      "|1896|Aquatics|CHASAPIS, Spiridon|Silver|\n",
      "+----+--------+------------------+------+\n",
      "only showing top 5 rows\n",
      "\n"
     ]
    }
   ],
   "source": [
    "# select columns by name\n",
    "df_2.select(\"Year\",\"Sport\",\"Athlete\",\"Medal\").show(5)"
   ]
  },
  {
   "cell_type": "code",
   "execution_count": 37,
   "id": "2d798ba3",
   "metadata": {},
   "outputs": [
    {
     "name": "stdout",
     "output_type": "stream",
     "text": [
      "+----+------------------+\n",
      "|Year|           Athlete|\n",
      "+----+------------------+\n",
      "|1896|     HAJOS, Alfred|\n",
      "|1896|  HERSCHMANN, Otto|\n",
      "|1896| DRIVAS, Dimitrios|\n",
      "|1896|MALOKINIS, Ioannis|\n",
      "|1896|CHASAPIS, Spiridon|\n",
      "+----+------------------+\n",
      "only showing top 5 rows\n",
      "\n"
     ]
    }
   ],
   "source": [
    "df_2.select(df_2.Year, df_2.Athlete).show(5)"
   ]
  },
  {
   "cell_type": "code",
   "execution_count": 39,
   "id": "c81fb913",
   "metadata": {},
   "outputs": [
    {
     "name": "stdout",
     "output_type": "stream",
     "text": [
      "+----+------+--------+\n",
      "|Year|  City|   Sport|\n",
      "+----+------+--------+\n",
      "|1896|Athens|Aquatics|\n",
      "|1896|Athens|Aquatics|\n",
      "|1896|Athens|Aquatics|\n",
      "|1896|Athens|Aquatics|\n",
      "|1896|Athens|Aquatics|\n",
      "+----+------+--------+\n",
      "only showing top 5 rows\n",
      "\n"
     ]
    }
   ],
   "source": [
    "# access columns by index\n",
    "df_2.select(df_2.columns[:3]).show(5)"
   ]
  },
  {
   "cell_type": "code",
   "execution_count": 40,
   "id": "3ccf1fed",
   "metadata": {},
   "outputs": [
    {
     "name": "stdout",
     "output_type": "stream",
     "text": [
      "+----------+------------------+-------+\n",
      "|Discipline|           Athlete|Country|\n",
      "+----------+------------------+-------+\n",
      "|  Swimming|     HAJOS, Alfred|    HUN|\n",
      "|  Swimming|  HERSCHMANN, Otto|    AUT|\n",
      "|  Swimming| DRIVAS, Dimitrios|    GRE|\n",
      "|  Swimming|MALOKINIS, Ioannis|    GRE|\n",
      "|  Swimming|CHASAPIS, Spiridon|    GRE|\n",
      "+----------+------------------+-------+\n",
      "only showing top 5 rows\n",
      "\n"
     ]
    }
   ],
   "source": [
    "df_2.select(df_2.columns[3:6]).show(5)"
   ]
  },
  {
   "cell_type": "code",
   "execution_count": 42,
   "id": "6f6a1c4f",
   "metadata": {},
   "outputs": [
    {
     "data": {
      "text/plain": [
       "Row(Year='1896', City='Athens', Sport='Aquatics', Discipline='Swimming', Athlete='CHOROPHAS, Efstathios', Country='GRE', Gender='Men', Event='1200M Freestyle', Medal='Bronze')"
      ]
     },
     "execution_count": 42,
     "metadata": {},
     "output_type": "execute_result"
    }
   ],
   "source": [
    "df_2.collect()[5]"
   ]
  },
  {
   "cell_type": "code",
   "execution_count": 43,
   "id": "6e4e07dc",
   "metadata": {},
   "outputs": [
    {
     "data": {
      "text/plain": [
       "'Swimming'"
      ]
     },
     "execution_count": 43,
     "metadata": {},
     "output_type": "execute_result"
    }
   ],
   "source": [
    "df_2.collect()[5][3]"
   ]
  },
  {
   "cell_type": "code",
   "execution_count": 50,
   "id": "c592d0fd",
   "metadata": {},
   "outputs": [],
   "source": [
    "from pyspark.sql.functions import col, lit"
   ]
  },
  {
   "cell_type": "code",
   "execution_count": 53,
   "id": "66624116",
   "metadata": {},
   "outputs": [
    {
     "name": "stdout",
     "output_type": "stream",
     "text": [
      "root\n",
      " |-- Year: string (nullable = true)\n",
      " |-- City: string (nullable = true)\n",
      " |-- Sport: string (nullable = true)\n",
      " |-- Discipline: string (nullable = true)\n",
      " |-- Athlete: string (nullable = true)\n",
      " |-- Country: string (nullable = true)\n",
      " |-- Gender: string (nullable = true)\n",
      " |-- Event: string (nullable = true)\n",
      " |-- Medal: string (nullable = true)\n",
      "\n"
     ]
    }
   ],
   "source": [
    "df_2.printSchema()"
   ]
  },
  {
   "cell_type": "code",
   "execution_count": 54,
   "id": "47d18e9f",
   "metadata": {},
   "outputs": [],
   "source": [
    "# Alter Columns - withColumn\n",
    "\n",
    "# Type Cast a column\n",
    "df_2 = df_2.withColumn(\"Year\", col(\"Year\").cast(\"Integer\"))"
   ]
  },
  {
   "cell_type": "code",
   "execution_count": 55,
   "id": "e51cc147",
   "metadata": {},
   "outputs": [
    {
     "name": "stdout",
     "output_type": "stream",
     "text": [
      "root\n",
      " |-- Year: integer (nullable = true)\n",
      " |-- City: string (nullable = true)\n",
      " |-- Sport: string (nullable = true)\n",
      " |-- Discipline: string (nullable = true)\n",
      " |-- Athlete: string (nullable = true)\n",
      " |-- Country: string (nullable = true)\n",
      " |-- Gender: string (nullable = true)\n",
      " |-- Event: string (nullable = true)\n",
      " |-- Medal: string (nullable = true)\n",
      "\n"
     ]
    }
   ],
   "source": [
    "df_2.printSchema()"
   ]
  },
  {
   "cell_type": "code",
   "execution_count": 57,
   "id": "7b31cf6c",
   "metadata": {},
   "outputs": [
    {
     "name": "stdout",
     "output_type": "stream",
     "text": [
      "+--------+--------+----------+----------+------------+\n",
      "|Emp Name|Emp Dept|Emp Salary|Emp Gender|Total Salary|\n",
      "+--------+--------+----------+----------+------------+\n",
      "|    John|      IT|     45000|         M|       50000|\n",
      "|     Max|      IT|     50000|         M|       55000|\n",
      "|   Shawn|      HR|     35000|         M|       40000|\n",
      "|    Nick|      HR|     25000|         M|       30000|\n",
      "|   Jenny|      IT|     75000|         F|       80000|\n",
      "|    Tina|      IT|     85000|         F|       90000|\n",
      "|     Nat|      HR|    105000|          |      110000|\n",
      "|   Chris|      IT|     40000|         M|       45000|\n",
      "|     Tom|      IT|     45000|         M|       50000|\n",
      "+--------+--------+----------+----------+------------+\n",
      "\n"
     ]
    }
   ],
   "source": [
    "# Update the column\n",
    "# df.withColumn(\"Emp Salary\", col(\"Emp Salary\") + 5000).show()\n",
    "\n",
    "# Add new column\n",
    "df.withColumn(\"Total Salary\", col(\"Emp Salary\") + 5000).show()"
   ]
  },
  {
   "cell_type": "code",
   "execution_count": 58,
   "id": "ba0b1442",
   "metadata": {},
   "outputs": [
    {
     "name": "stdout",
     "output_type": "stream",
     "text": [
      "+--------+--------+----------+\n",
      "|Emp Name|Emp Dept|Emp Salary|\n",
      "+--------+--------+----------+\n",
      "|    John|      IT|     45000|\n",
      "|     Max|      IT|     50000|\n",
      "|   Shawn|      HR|     35000|\n",
      "|    Nick|      HR|     25000|\n",
      "|   Jenny|      IT|     75000|\n",
      "|    Tina|      IT|     85000|\n",
      "|     Nat|      HR|    105000|\n",
      "|   Chris|      IT|     40000|\n",
      "|     Tom|      IT|     45000|\n",
      "+--------+--------+----------+\n",
      "\n"
     ]
    }
   ],
   "source": [
    "# Drop a column\n",
    "df.drop(\"Emp Gender\").show()"
   ]
  },
  {
   "cell_type": "code",
   "execution_count": 59,
   "id": "0d417326",
   "metadata": {},
   "outputs": [
    {
     "name": "stdout",
     "output_type": "stream",
     "text": [
      "+--------+--------+----------+----------+--------+\n",
      "|Emp Name|Emp Dept|Emp Salary|Emp Gender|Emp City|\n",
      "+--------+--------+----------+----------+--------+\n",
      "|    John|      IT|     45000|         M|   Delhi|\n",
      "|     Max|      IT|     50000|         M|   Delhi|\n",
      "|   Shawn|      HR|     35000|         M|   Delhi|\n",
      "|    Nick|      HR|     25000|         M|   Delhi|\n",
      "|   Jenny|      IT|     75000|         F|   Delhi|\n",
      "+--------+--------+----------+----------+--------+\n",
      "only showing top 5 rows\n",
      "\n"
     ]
    }
   ],
   "source": [
    "df.withColumn(\"Emp City\", lit(\"Delhi\")).show(5)"
   ]
  },
  {
   "cell_type": "code",
   "execution_count": 62,
   "id": "8cacc11c",
   "metadata": {},
   "outputs": [],
   "source": [
    "df = df.withColumn(\"Emp City\", lit(\"Delhi\"))"
   ]
  },
  {
   "cell_type": "code",
   "execution_count": 63,
   "id": "66bceb9b",
   "metadata": {},
   "outputs": [
    {
     "name": "stdout",
     "output_type": "stream",
     "text": [
      "+--------+--------+----------+----------+--------+\n",
      "|Emp Name|Emp Dept|Emp Salary|Emp Gender|Emp City|\n",
      "+--------+--------+----------+----------+--------+\n",
      "|    John|      IT|     45000|         M|   Delhi|\n",
      "|     Max|      IT|     50000|         M|   Delhi|\n",
      "|   Shawn|      HR|     35000|         M|   Delhi|\n",
      "|    Nick|      HR|     25000|         M|   Delhi|\n",
      "|   Jenny|      IT|     75000|         F|   Delhi|\n",
      "|    Tina|      IT|     85000|         F|   Delhi|\n",
      "|     Nat|      HR|    105000|          |   Delhi|\n",
      "|   Chris|      IT|     40000|         M|   Delhi|\n",
      "|     Tom|      IT|     45000|         M|   Delhi|\n",
      "+--------+--------+----------+----------+--------+\n",
      "\n"
     ]
    }
   ],
   "source": [
    "df.show()"
   ]
  },
  {
   "cell_type": "code",
   "execution_count": 70,
   "id": "656a7fd1",
   "metadata": {},
   "outputs": [
    {
     "name": "stdout",
     "output_type": "stream",
     "text": [
      "+--------+--------+----------+----------+--------+\n",
      "|Emp Name|Emp Dept|Emp Salary|Emp Gender|Emp City|\n",
      "+--------+--------+----------+----------+--------+\n",
      "|    John|      IT|     45000|         M|   Delhi|\n",
      "|     Max|      IT|     50000|         M|   Delhi|\n",
      "|   Jenny|      IT|     75000|         F|   Delhi|\n",
      "|    Tina|      IT|     85000|         F|   Delhi|\n",
      "|   Chris|      IT|     40000|         M|   Delhi|\n",
      "|     Tom|      IT|     45000|         M|   Delhi|\n",
      "+--------+--------+----------+----------+--------+\n",
      "\n"
     ]
    }
   ],
   "source": [
    "# Filter the dataframe\n",
    "df.filter(col(\"Emp Dept\") == \"IT\").show()"
   ]
  },
  {
   "cell_type": "code",
   "execution_count": null,
   "id": "b20e754c",
   "metadata": {},
   "outputs": [],
   "source": []
  },
  {
   "cell_type": "code",
   "execution_count": 69,
   "id": "3adfb99a",
   "metadata": {},
   "outputs": [
    {
     "name": "stdout",
     "output_type": "stream",
     "text": [
      "+----+---------+---------+----------+--------------------+-------+------+------------+------+\n",
      "|Year|     City|    Sport|Discipline|             Athlete|Country|Gender|       Event| Medal|\n",
      "+----+---------+---------+----------+--------------------+-------+------+------------+------+\n",
      "|1900|    Paris|Athletics| Athletics|   PRITCHARD, Norman|    IND|   Men|        200M|Silver|\n",
      "|1900|    Paris|Athletics| Athletics|   PRITCHARD, Norman|    IND|   Men|200M Hurdles|Silver|\n",
      "|1928|Amsterdam|   Hockey|    Hockey|ALLEN, Richard James|    IND|   Men|      Hockey|  Gold|\n",
      "|1928|Amsterdam|   Hockey|    Hockey|         CHAND, Dyan|    IND|   Men|      Hockey|  Gold|\n",
      "|1928|Amsterdam|   Hockey|    Hockey| GATELEY, Maurice A.|    IND|   Men|      Hockey|  Gold|\n",
      "+----+---------+---------+----------+--------------------+-------+------+------------+------+\n",
      "only showing top 5 rows\n",
      "\n"
     ]
    }
   ],
   "source": [
    "# Filter the dataframe\n",
    "df_2.filter(df_2.Country == \"IND\").show(5)"
   ]
  },
  {
   "cell_type": "code",
   "execution_count": 71,
   "id": "c8956373",
   "metadata": {},
   "outputs": [
    {
     "name": "stdout",
     "output_type": "stream",
     "text": [
      "+----+---------+---------+----------+--------------------+-------+------+------------+------+\n",
      "|Year|     City|    Sport|Discipline|             Athlete|Country|Gender|       Event| Medal|\n",
      "+----+---------+---------+----------+--------------------+-------+------+------------+------+\n",
      "|1900|    Paris|Athletics| Athletics|   PRITCHARD, Norman|    IND|   Men|        200M|Silver|\n",
      "|1900|    Paris|Athletics| Athletics|   PRITCHARD, Norman|    IND|   Men|200M Hurdles|Silver|\n",
      "|1928|Amsterdam|   Hockey|    Hockey|ALLEN, Richard James|    IND|   Men|      Hockey|  Gold|\n",
      "|1928|Amsterdam|   Hockey|    Hockey|         CHAND, Dyan|    IND|   Men|      Hockey|  Gold|\n",
      "|1928|Amsterdam|   Hockey|    Hockey| GATELEY, Maurice A.|    IND|   Men|      Hockey|  Gold|\n",
      "+----+---------+---------+----------+--------------------+-------+------+------------+------+\n",
      "only showing top 5 rows\n",
      "\n"
     ]
    }
   ],
   "source": [
    "df_2.filter(\"Country == 'IND'\").show(5)"
   ]
  },
  {
   "cell_type": "code",
   "execution_count": 72,
   "id": "ec452e2a",
   "metadata": {},
   "outputs": [
    {
     "name": "stdout",
     "output_type": "stream",
     "text": [
      "+----+------+--------+----------+------------------+-------+------+--------------------+------+\n",
      "|Year|  City|   Sport|Discipline|           Athlete|Country|Gender|               Event| Medal|\n",
      "+----+------+--------+----------+------------------+-------+------+--------------------+------+\n",
      "|1896|Athens|Aquatics|  Swimming|     HAJOS, Alfred|    HUN|   Men|      100M Freestyle|  Gold|\n",
      "|1896|Athens|Aquatics|  Swimming|  HERSCHMANN, Otto|    AUT|   Men|      100M Freestyle|Silver|\n",
      "|1896|Athens|Aquatics|  Swimming| DRIVAS, Dimitrios|    GRE|   Men|100M Freestyle Fo...|Bronze|\n",
      "|1896|Athens|Aquatics|  Swimming|MALOKINIS, Ioannis|    GRE|   Men|100M Freestyle Fo...|  Gold|\n",
      "|1896|Athens|Aquatics|  Swimming|CHASAPIS, Spiridon|    GRE|   Men|100M Freestyle Fo...|Silver|\n",
      "+----+------+--------+----------+------------------+-------+------+--------------------+------+\n",
      "only showing top 5 rows\n",
      "\n"
     ]
    }
   ],
   "source": [
    "# Not Equals to\n",
    "# df_2.filter(\"Country != 'IND'\").show(5)\n",
    "df_2.filter(\"Country <> 'IND'\").show(5)"
   ]
  },
  {
   "cell_type": "code",
   "execution_count": 74,
   "id": "c21ea9ea",
   "metadata": {},
   "outputs": [
    {
     "name": "stdout",
     "output_type": "stream",
     "text": [
      "+----+-------+-------------+-------------------+--------------------+-------+------+--------------------+------+\n",
      "|Year|   City|        Sport|         Discipline|             Athlete|Country|Gender|               Event| Medal|\n",
      "+----+-------+-------------+-------------------+--------------------+-------+------+--------------------+------+\n",
      "|2000| Sydney|Weightlifting|      Weightlifting|  MALLESWARI, Karnam|    IND| Women|                69KG|Bronze|\n",
      "|2004| Athens|     Shooting|           Shooting|RATHORE, Rajyavar...|    IND|   Men|Double Trap (150 ...|Silver|\n",
      "|2008|Beijing|       Boxing|             Boxing|     KUMAR, Vijender|    IND|   Men|          69 - 75 KG|Bronze|\n",
      "|2008|Beijing|     Shooting|           Shooting|     BINDRA, Abhinav|    IND|   Men|10M Air Rifle (60...|  Gold|\n",
      "|2008|Beijing|    Wrestling|    Wrestling Free.|       KUMAR, Sushil|    IND|   Men|           60 - 66KG|Bronze|\n",
      "|2012| London|    Badminton|          Badminton|       NEHWAL, Saina|    IND| Women|             Singles|Bronze|\n",
      "|2012| London|       Boxing|             Boxing|           KOM, Mary|    IND| Women|               51 KG|Bronze|\n",
      "|2012| London|     Shooting|           Shooting|       NARANG, Gagan|    IND|   Men|       10M Air Rifle|Bronze|\n",
      "|2012| London|     Shooting|           Shooting|        KUMAR, Vijay|    IND|   Men|    25M Rapid Pistol|Silver|\n",
      "|2012| London|    Wrestling|Wrestling Freestyle|     DUTT, Yogeshwar|    IND|   Men|            Wf 60 KG|Bronze|\n",
      "|2012| London|    Wrestling|Wrestling Freestyle|       KUMAR, Sushil|    IND|   Men|            Wf 66 KG|Silver|\n",
      "+----+-------+-------------+-------------------+--------------------+-------+------+--------------------+------+\n",
      "\n"
     ]
    }
   ],
   "source": [
    "df_2.filter((df_2.Country == \"IND\") & (df_2.Year >= 2000)).show()"
   ]
  },
  {
   "cell_type": "code",
   "execution_count": 76,
   "id": "1a14828a",
   "metadata": {},
   "outputs": [
    {
     "name": "stdout",
     "output_type": "stream",
     "text": [
      "+--------+--------+----------+----------+--------+\n",
      "|Emp Name|Emp Dept|Emp Salary|Emp Gender|Emp City|\n",
      "+--------+--------+----------+----------+--------+\n",
      "|    Nick|      HR|     25000|         M|   Delhi|\n",
      "|   Shawn|      HR|     35000|         M|   Delhi|\n",
      "|   Chris|      IT|     40000|         M|   Delhi|\n",
      "|    John|      IT|     45000|         M|   Delhi|\n",
      "|     Tom|      IT|     45000|         M|   Delhi|\n",
      "|     Max|      IT|     50000|         M|   Delhi|\n",
      "|   Jenny|      IT|     75000|         F|   Delhi|\n",
      "|    Tina|      IT|     85000|         F|   Delhi|\n",
      "|     Nat|      HR|    105000|          |   Delhi|\n",
      "+--------+--------+----------+----------+--------+\n",
      "\n"
     ]
    }
   ],
   "source": [
    "# Sorting in ascending\n",
    "df.sort(\"Emp Salary\").show()"
   ]
  },
  {
   "cell_type": "code",
   "execution_count": 77,
   "id": "00398c53",
   "metadata": {},
   "outputs": [
    {
     "name": "stdout",
     "output_type": "stream",
     "text": [
      "+--------+--------+----------+----------+--------+\n",
      "|Emp Name|Emp Dept|Emp Salary|Emp Gender|Emp City|\n",
      "+--------+--------+----------+----------+--------+\n",
      "|     Nat|      HR|    105000|          |   Delhi|\n",
      "|    Tina|      IT|     85000|         F|   Delhi|\n",
      "|   Jenny|      IT|     75000|         F|   Delhi|\n",
      "|     Max|      IT|     50000|         M|   Delhi|\n",
      "|     Tom|      IT|     45000|         M|   Delhi|\n",
      "|    John|      IT|     45000|         M|   Delhi|\n",
      "|   Chris|      IT|     40000|         M|   Delhi|\n",
      "|   Shawn|      HR|     35000|         M|   Delhi|\n",
      "|    Nick|      HR|     25000|         M|   Delhi|\n",
      "+--------+--------+----------+----------+--------+\n",
      "\n"
     ]
    }
   ],
   "source": [
    "# sorting in descending order\n",
    "df.sort(col(\"Emp Salary\").desc()).show()"
   ]
  },
  {
   "cell_type": "code",
   "execution_count": 78,
   "id": "7aa70c4b",
   "metadata": {},
   "outputs": [
    {
     "name": "stdout",
     "output_type": "stream",
     "text": [
      "+--------+--------+----------+----------+--------+\n",
      "|Emp Name|Emp Dept|Emp Salary|Emp Gender|Emp City|\n",
      "+--------+--------+----------+----------+--------+\n",
      "|     Nat|      HR|    105000|          |   Delhi|\n",
      "|    Tina|      IT|     85000|         F|   Delhi|\n",
      "|   Jenny|      IT|     75000|         F|   Delhi|\n",
      "|     Max|      IT|     50000|         M|   Delhi|\n",
      "|    John|      IT|     45000|         M|   Delhi|\n",
      "|     Tom|      IT|     45000|         M|   Delhi|\n",
      "|   Chris|      IT|     40000|         M|   Delhi|\n",
      "|   Shawn|      HR|     35000|         M|   Delhi|\n",
      "|    Nick|      HR|     25000|         M|   Delhi|\n",
      "+--------+--------+----------+----------+--------+\n",
      "\n"
     ]
    }
   ],
   "source": [
    "df.sort(col(\"Emp Salary\").desc(), col(\"Emp Name\").asc()).show()"
   ]
  },
  {
   "cell_type": "code",
   "execution_count": 84,
   "id": "d48af873",
   "metadata": {},
   "outputs": [
    {
     "name": "stdout",
     "output_type": "stream",
     "text": [
      "+----+-------+------+\n",
      "|Year|Country| Medal|\n",
      "+----+-------+------+\n",
      "|1896|    HUN|  Gold|\n",
      "|1896|    AUT|Silver|\n",
      "|1896|    GRE|Bronze|\n",
      "|1896|    GRE|  Gold|\n",
      "|1896|    GRE|Silver|\n",
      "+----+-------+------+\n",
      "only showing top 5 rows\n",
      "\n"
     ]
    }
   ],
   "source": [
    "df_2.createOrReplaceTempView(\"Olympics\")\n",
    "spark.sql(\"select Year, Country, Medal from Olympics\").show(5)"
   ]
  },
  {
   "cell_type": "code",
   "execution_count": 87,
   "id": "de53221c",
   "metadata": {},
   "outputs": [
    {
     "name": "stdout",
     "output_type": "stream",
     "text": [
      "+--------------------+-------+------+----+\n",
      "|             Athlete|Country| Medal|Year|\n",
      "+--------------------+-------+------+----+\n",
      "|RATHORE, Rajyavar...|    IND|Silver|2004|\n",
      "|     KUMAR, Vijender|    IND|Bronze|2008|\n",
      "|     BINDRA, Abhinav|    IND|  Gold|2008|\n",
      "|       KUMAR, Sushil|    IND|Bronze|2008|\n",
      "|       NEHWAL, Saina|    IND|Bronze|2012|\n",
      "|           KOM, Mary|    IND|Bronze|2012|\n",
      "|       NARANG, Gagan|    IND|Bronze|2012|\n",
      "|        KUMAR, Vijay|    IND|Silver|2012|\n",
      "|     DUTT, Yogeshwar|    IND|Bronze|2012|\n",
      "|       KUMAR, Sushil|    IND|Silver|2012|\n",
      "+--------------------+-------+------+----+\n",
      "\n"
     ]
    }
   ],
   "source": [
    "spark.sql(\"select Athlete, Country, Medal, Year from Olympics where Country = 'IND' and Year > 2000\").show()"
   ]
  },
  {
   "cell_type": "code",
   "execution_count": 88,
   "id": "8c18922f",
   "metadata": {},
   "outputs": [
    {
     "name": "stdout",
     "output_type": "stream",
     "text": [
      "+--------+---------------+\n",
      "|Emp Dept|sum(Emp Salary)|\n",
      "+--------+---------------+\n",
      "|      IT|         340000|\n",
      "|      HR|         165000|\n",
      "+--------+---------------+\n",
      "\n"
     ]
    }
   ],
   "source": [
    "df.groupBy(\"Emp Dept\").sum(\"Emp Salary\").show()"
   ]
  },
  {
   "cell_type": "code",
   "execution_count": 90,
   "id": "f0ae163d",
   "metadata": {},
   "outputs": [],
   "source": [
    "gold_df = df_2.filter(\"Medal == 'Gold'\")"
   ]
  },
  {
   "cell_type": "code",
   "execution_count": 91,
   "id": "d974a35c",
   "metadata": {},
   "outputs": [
    {
     "name": "stdout",
     "output_type": "stream",
     "text": [
      "+----+------+---------+----------+------------------+-------+------+--------------------+-----+\n",
      "|Year|  City|    Sport|Discipline|           Athlete|Country|Gender|               Event|Medal|\n",
      "+----+------+---------+----------+------------------+-------+------+--------------------+-----+\n",
      "|1896|Athens| Aquatics|  Swimming|     HAJOS, Alfred|    HUN|   Men|      100M Freestyle| Gold|\n",
      "|1896|Athens| Aquatics|  Swimming|MALOKINIS, Ioannis|    GRE|   Men|100M Freestyle Fo...| Gold|\n",
      "|1896|Athens| Aquatics|  Swimming|     HAJOS, Alfred|    HUN|   Men|     1200M Freestyle| Gold|\n",
      "|1896|Athens| Aquatics|  Swimming|     NEUMANN, Paul|    AUT|   Men|      400M Freestyle| Gold|\n",
      "|1896|Athens|Athletics| Athletics|     BURKE, Thomas|    USA|   Men|                100M| Gold|\n",
      "+----+------+---------+----------+------------------+-------+------+--------------------+-----+\n",
      "only showing top 5 rows\n",
      "\n"
     ]
    }
   ],
   "source": [
    "gold_df.show(5)"
   ]
  },
  {
   "cell_type": "code",
   "execution_count": 95,
   "id": "b103f198",
   "metadata": {},
   "outputs": [
    {
     "name": "stdout",
     "output_type": "stream",
     "text": [
      "+----------------+-----+\n",
      "|         Athlete|count|\n",
      "+----------------+-----+\n",
      "| PHELPS, Michael|   18|\n",
      "|     SPITZ, Mark|    9|\n",
      "|LATYNINA, Larisa|    9|\n",
      "|    NURMI, Paavo|    9|\n",
      "|     LEWIS, Carl|    9|\n",
      "+----------------+-----+\n",
      "only showing top 5 rows\n",
      "\n"
     ]
    }
   ],
   "source": [
    "gold_df.groupBy('Athlete').count().sort(col(\"count\").desc()).show(5)"
   ]
  },
  {
   "cell_type": "code",
   "execution_count": 97,
   "id": "82213086",
   "metadata": {},
   "outputs": [
    {
     "name": "stdout",
     "output_type": "stream",
     "text": [
      "+-------+-----+\n",
      "|Country|count|\n",
      "+-------+-----+\n",
      "|    USA| 2235|\n",
      "|    URS|  838|\n",
      "|    GBR|  546|\n",
      "|    ITA|  476|\n",
      "|    GER|  452|\n",
      "|    HUN|  412|\n",
      "|    FRA|  408|\n",
      "|    SWE|  349|\n",
      "|    GDR|  329|\n",
      "|    AUS|  312|\n",
      "|    CHN|  290|\n",
      "|    RUS|  239|\n",
      "|    NED|  233|\n",
      "|    JPN|  213|\n",
      "|    NOR|  209|\n",
      "+-------+-----+\n",
      "only showing top 15 rows\n",
      "\n"
     ]
    }
   ],
   "source": [
    "gold_df.groupBy('Country').count().sort(col(\"count\").desc()).show(15)"
   ]
  },
  {
   "cell_type": "code",
   "execution_count": 98,
   "id": "50b35f74",
   "metadata": {},
   "outputs": [],
   "source": [
    "from pyspark.sql.functions import sum, avg, count, max, min"
   ]
  },
  {
   "cell_type": "code",
   "execution_count": 114,
   "id": "f3a4b93f",
   "metadata": {},
   "outputs": [
    {
     "name": "stdout",
     "output_type": "stream",
     "text": [
      "+--------+------------+------------------+\n",
      "|Emp Dept|Total Salary|        Avg Salary|\n",
      "+--------+------------+------------------+\n",
      "|      IT|      340000|56666.666666666664|\n",
      "|      HR|      165000|           55000.0|\n",
      "+--------+------------+------------------+\n",
      "\n"
     ]
    }
   ],
   "source": [
    "df.groupBy(\"Emp Dept\").agg(sum(\"Emp Salary\").alias(\"Total Salary\"),\n",
    "                          avg(\"Emp Salary\").alias(\"Avg Salary\")).show()"
   ]
  },
  {
   "cell_type": "code",
   "execution_count": null,
   "id": "3c84eb31",
   "metadata": {},
   "outputs": [],
   "source": []
  }
 ],
 "metadata": {
  "kernelspec": {
   "display_name": "Python 3 (ipykernel)",
   "language": "python",
   "name": "python3"
  },
  "language_info": {
   "codemirror_mode": {
    "name": "ipython",
    "version": 3
   },
   "file_extension": ".py",
   "mimetype": "text/x-python",
   "name": "python",
   "nbconvert_exporter": "python",
   "pygments_lexer": "ipython3",
   "version": "3.9.7"
  }
 },
 "nbformat": 4,
 "nbformat_minor": 5
}
