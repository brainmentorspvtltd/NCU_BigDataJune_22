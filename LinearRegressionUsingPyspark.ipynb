{
 "cells": [
  {
   "cell_type": "code",
   "execution_count": 1,
   "id": "17262a50",
   "metadata": {},
   "outputs": [],
   "source": [
    "import os, sys\n",
    "from pyspark.sql import SparkSession"
   ]
  },
  {
   "cell_type": "code",
   "execution_count": 2,
   "id": "b19aab7b",
   "metadata": {},
   "outputs": [],
   "source": [
    "os.environ['PYSPARK_PYTHON'] = sys.executable\n",
    "os.environ['PYSPARK_DRIVER_PYTHON'] = sys.executable"
   ]
  },
  {
   "cell_type": "code",
   "execution_count": 3,
   "id": "358a3c7f",
   "metadata": {},
   "outputs": [],
   "source": [
    "spark = SparkSession.builder.master('local[*]').appName(\"ml_example\").getOrCreate()"
   ]
  },
  {
   "cell_type": "code",
   "execution_count": 4,
   "id": "3b6af952",
   "metadata": {},
   "outputs": [],
   "source": [
    "df = spark.read.csv('headbrain.csv', header=True)"
   ]
  },
  {
   "cell_type": "code",
   "execution_count": 5,
   "id": "5f0c2700",
   "metadata": {},
   "outputs": [
    {
     "name": "stdout",
     "output_type": "stream",
     "text": [
      "root\n",
      " |-- Gender: string (nullable = true)\n",
      " |-- Age Range: string (nullable = true)\n",
      " |-- Head Size(cm^3): string (nullable = true)\n",
      " |-- Brain Weight(grams): string (nullable = true)\n",
      "\n"
     ]
    }
   ],
   "source": [
    "df.printSchema()"
   ]
  },
  {
   "cell_type": "code",
   "execution_count": 6,
   "id": "4ea4a705",
   "metadata": {},
   "outputs": [
    {
     "name": "stdout",
     "output_type": "stream",
     "text": [
      "+------+---------+---------------+-------------------+\n",
      "|Gender|Age Range|Head Size(cm^3)|Brain Weight(grams)|\n",
      "+------+---------+---------------+-------------------+\n",
      "|     1|        1|           4512|               1530|\n",
      "|     1|        1|           3738|               1297|\n",
      "|     1|        1|           4261|               1335|\n",
      "|     1|        1|           3777|               1282|\n",
      "|     1|        1|           4177|               1590|\n",
      "+------+---------+---------------+-------------------+\n",
      "only showing top 5 rows\n",
      "\n"
     ]
    }
   ],
   "source": [
    "df.show(5)"
   ]
  },
  {
   "cell_type": "code",
   "execution_count": 7,
   "id": "1bec88a6",
   "metadata": {},
   "outputs": [],
   "source": [
    "new_df = df.drop(*['Gender', 'Age Range'])"
   ]
  },
  {
   "cell_type": "code",
   "execution_count": 8,
   "id": "091030aa",
   "metadata": {},
   "outputs": [
    {
     "name": "stdout",
     "output_type": "stream",
     "text": [
      "+---------------+-------------------+\n",
      "|Head Size(cm^3)|Brain Weight(grams)|\n",
      "+---------------+-------------------+\n",
      "|           4512|               1530|\n",
      "|           3738|               1297|\n",
      "|           4261|               1335|\n",
      "|           3777|               1282|\n",
      "|           4177|               1590|\n",
      "+---------------+-------------------+\n",
      "only showing top 5 rows\n",
      "\n"
     ]
    }
   ],
   "source": [
    "new_df.show(5)"
   ]
  },
  {
   "cell_type": "code",
   "execution_count": 9,
   "id": "03ec6264",
   "metadata": {},
   "outputs": [
    {
     "data": {
      "text/plain": [
       "(237, 2)"
      ]
     },
     "execution_count": 9,
     "metadata": {},
     "output_type": "execute_result"
    }
   ],
   "source": [
    "new_df.count(), len(new_df.columns)"
   ]
  },
  {
   "cell_type": "code",
   "execution_count": 10,
   "id": "732d0da6",
   "metadata": {},
   "outputs": [
    {
     "name": "stdout",
     "output_type": "stream",
     "text": [
      "+-------+------------------+-------------------+\n",
      "|summary|   Head Size(cm^3)|Brain Weight(grams)|\n",
      "+-------+------------------+-------------------+\n",
      "|  count|               237|                237|\n",
      "|   mean|3633.9915611814345|  1282.873417721519|\n",
      "| stddev| 365.2614224198132| 120.34044578645734|\n",
      "|    min|              2720|               1012|\n",
      "|    max|              4747|                955|\n",
      "+-------+------------------+-------------------+\n",
      "\n"
     ]
    }
   ],
   "source": [
    "new_df.select('Head Size(cm^3)', 'Brain Weight(grams)').describe().show()"
   ]
  },
  {
   "cell_type": "code",
   "execution_count": 11,
   "id": "8b3f79c0",
   "metadata": {},
   "outputs": [],
   "source": [
    "# Count Missing Values from DataFrame"
   ]
  },
  {
   "cell_type": "code",
   "execution_count": 12,
   "id": "be2aa10c",
   "metadata": {},
   "outputs": [],
   "source": [
    "import pyspark.sql.functions as fun"
   ]
  },
  {
   "cell_type": "code",
   "execution_count": 13,
   "id": "c43fdc0d",
   "metadata": {},
   "outputs": [
    {
     "name": "stdout",
     "output_type": "stream",
     "text": [
      "+------+---------+---------------+-------------------+\n",
      "|Gender|Age Range|Head Size(cm^3)|Brain Weight(grams)|\n",
      "+------+---------+---------------+-------------------+\n",
      "|     0|        0|              0|                  0|\n",
      "+------+---------+---------------+-------------------+\n",
      "\n"
     ]
    }
   ],
   "source": [
    "df.agg(*[fun.count(fun.when(fun.isnull(col), col)).alias(col) for col in df.columns]).show()"
   ]
  },
  {
   "cell_type": "code",
   "execution_count": 14,
   "id": "bde61be7",
   "metadata": {},
   "outputs": [
    {
     "name": "stdout",
     "output_type": "stream",
     "text": [
      "+------+-----+\n",
      "|Gender|count|\n",
      "+------+-----+\n",
      "|     1|  134|\n",
      "|     2|  103|\n",
      "+------+-----+\n",
      "\n"
     ]
    }
   ],
   "source": [
    "df.groupBy('Gender').count().show()"
   ]
  },
  {
   "cell_type": "code",
   "execution_count": 15,
   "id": "fb602982",
   "metadata": {},
   "outputs": [
    {
     "name": "stdout",
     "output_type": "stream",
     "text": [
      "+---------+-----+\n",
      "|Age Range|count|\n",
      "+---------+-----+\n",
      "|        1|  110|\n",
      "|        2|  127|\n",
      "+---------+-----+\n",
      "\n"
     ]
    }
   ],
   "source": [
    "df.groupBy('Age Range').count().show()"
   ]
  },
  {
   "cell_type": "code",
   "execution_count": 16,
   "id": "3d0f9529",
   "metadata": {},
   "outputs": [],
   "source": [
    "from pyspark.ml.feature import StringIndexer, OneHotEncoder"
   ]
  },
  {
   "cell_type": "code",
   "execution_count": 17,
   "id": "f043a2af",
   "metadata": {},
   "outputs": [],
   "source": [
    "genderLabel = StringIndexer(inputCol='Gender',  outputCol = 'GenderLabelEncode')"
   ]
  },
  {
   "cell_type": "code",
   "execution_count": 18,
   "id": "da83a94f",
   "metadata": {},
   "outputs": [],
   "source": [
    "df = genderLabel.fit(df).transform(df)"
   ]
  },
  {
   "cell_type": "code",
   "execution_count": 19,
   "id": "14e5842d",
   "metadata": {},
   "outputs": [
    {
     "name": "stdout",
     "output_type": "stream",
     "text": [
      "+------+---------+---------------+-------------------+-----------------+\n",
      "|Gender|Age Range|Head Size(cm^3)|Brain Weight(grams)|GenderLabelEncode|\n",
      "+------+---------+---------------+-------------------+-----------------+\n",
      "|     1|        1|           4512|               1530|              0.0|\n",
      "|     1|        1|           3738|               1297|              0.0|\n",
      "|     1|        1|           4261|               1335|              0.0|\n",
      "|     1|        1|           3777|               1282|              0.0|\n",
      "|     1|        1|           4177|               1590|              0.0|\n",
      "+------+---------+---------------+-------------------+-----------------+\n",
      "only showing top 5 rows\n",
      "\n"
     ]
    }
   ],
   "source": [
    "df.show(5)"
   ]
  },
  {
   "cell_type": "code",
   "execution_count": 20,
   "id": "68804fa1",
   "metadata": {},
   "outputs": [],
   "source": [
    "genderOneHot = OneHotEncoder(inputCol='GenderLabelEncode', outputCol='GenderOneHot')"
   ]
  },
  {
   "cell_type": "code",
   "execution_count": 21,
   "id": "0f86b2dd",
   "metadata": {},
   "outputs": [],
   "source": [
    "df = genderOneHot.fit(df).transform(df)"
   ]
  },
  {
   "cell_type": "code",
   "execution_count": 22,
   "id": "53ff2ef8",
   "metadata": {},
   "outputs": [
    {
     "name": "stdout",
     "output_type": "stream",
     "text": [
      "+------+---------+---------------+-------------------+-----------------+-------------+\n",
      "|Gender|Age Range|Head Size(cm^3)|Brain Weight(grams)|GenderLabelEncode| GenderOneHot|\n",
      "+------+---------+---------------+-------------------+-----------------+-------------+\n",
      "|     1|        1|           4512|               1530|              0.0|(1,[0],[1.0])|\n",
      "|     1|        1|           3738|               1297|              0.0|(1,[0],[1.0])|\n",
      "|     1|        1|           4261|               1335|              0.0|(1,[0],[1.0])|\n",
      "|     1|        1|           3777|               1282|              0.0|(1,[0],[1.0])|\n",
      "|     1|        1|           4177|               1590|              0.0|(1,[0],[1.0])|\n",
      "+------+---------+---------------+-------------------+-----------------+-------------+\n",
      "only showing top 5 rows\n",
      "\n"
     ]
    }
   ],
   "source": [
    "df.show(5)"
   ]
  },
  {
   "cell_type": "code",
   "execution_count": 23,
   "id": "9999351b",
   "metadata": {},
   "outputs": [],
   "source": [
    "from pyspark.sql.functions import col\n",
    "\n",
    "df = df.withColumn('Head Size(cm^3)', col('Head Size(cm^3)').cast(\"Integer\"))"
   ]
  },
  {
   "cell_type": "code",
   "execution_count": 24,
   "id": "b90dc3cd",
   "metadata": {},
   "outputs": [],
   "source": [
    "df = df.withColumn('Brain Weight(grams)', col('Brain Weight(grams)').cast(\"Integer\"))"
   ]
  },
  {
   "cell_type": "code",
   "execution_count": 25,
   "id": "45e87394",
   "metadata": {},
   "outputs": [],
   "source": [
    "from pyspark.ml.feature import VectorAssembler"
   ]
  },
  {
   "cell_type": "code",
   "execution_count": 26,
   "id": "f7cf2b0a",
   "metadata": {},
   "outputs": [],
   "source": [
    "assemble = VectorAssembler(inputCols=['Head Size(cm^3)','Brain Weight(grams)'],\n",
    "                          outputCol='vector')"
   ]
  },
  {
   "cell_type": "code",
   "execution_count": 27,
   "id": "b6f9beb5",
   "metadata": {},
   "outputs": [],
   "source": [
    "df_vec = assemble.transform(df)"
   ]
  },
  {
   "cell_type": "code",
   "execution_count": 28,
   "id": "837dca25",
   "metadata": {},
   "outputs": [
    {
     "name": "stdout",
     "output_type": "stream",
     "text": [
      "+------+---------+---------------+-------------------+-----------------+-------------+---------------+\n",
      "|Gender|Age Range|Head Size(cm^3)|Brain Weight(grams)|GenderLabelEncode| GenderOneHot|         vector|\n",
      "+------+---------+---------------+-------------------+-----------------+-------------+---------------+\n",
      "|     1|        1|           4512|               1530|              0.0|(1,[0],[1.0])|[4512.0,1530.0]|\n",
      "|     1|        1|           3738|               1297|              0.0|(1,[0],[1.0])|[3738.0,1297.0]|\n",
      "|     1|        1|           4261|               1335|              0.0|(1,[0],[1.0])|[4261.0,1335.0]|\n",
      "|     1|        1|           3777|               1282|              0.0|(1,[0],[1.0])|[3777.0,1282.0]|\n",
      "|     1|        1|           4177|               1590|              0.0|(1,[0],[1.0])|[4177.0,1590.0]|\n",
      "+------+---------+---------------+-------------------+-----------------+-------------+---------------+\n",
      "only showing top 5 rows\n",
      "\n"
     ]
    }
   ],
   "source": [
    "df_vec.show(5)"
   ]
  },
  {
   "cell_type": "code",
   "execution_count": 29,
   "id": "5686e8b6",
   "metadata": {},
   "outputs": [],
   "source": [
    "df = spark.read.csv('headbrain.csv', header=True)"
   ]
  },
  {
   "cell_type": "code",
   "execution_count": 30,
   "id": "8bce0614",
   "metadata": {},
   "outputs": [],
   "source": [
    "# df = df.withColumn('Head Size(cm^3)', col('Head Size(cm^3)').cast(\"Integer\"))\n",
    "# df = df.withColumn('Brain Weight(grams)', col('Brain Weight(grams)').cast(\"Integer\"))"
   ]
  },
  {
   "cell_type": "code",
   "execution_count": 31,
   "id": "e9ccda96",
   "metadata": {},
   "outputs": [],
   "source": [
    "# converting all columns into integer\n",
    "df = df.select(*(col(c).cast('Integer').alias(c) for c in df.columns))"
   ]
  },
  {
   "cell_type": "code",
   "execution_count": 32,
   "id": "d556d143",
   "metadata": {},
   "outputs": [
    {
     "name": "stdout",
     "output_type": "stream",
     "text": [
      "+------+---------+---------------+-------------------+\n",
      "|Gender|Age Range|Head Size(cm^3)|Brain Weight(grams)|\n",
      "+------+---------+---------------+-------------------+\n",
      "|     1|        1|           4512|               1530|\n",
      "|     1|        1|           3738|               1297|\n",
      "|     1|        1|           4261|               1335|\n",
      "|     1|        1|           3777|               1282|\n",
      "|     1|        1|           4177|               1590|\n",
      "+------+---------+---------------+-------------------+\n",
      "only showing top 5 rows\n",
      "\n"
     ]
    }
   ],
   "source": [
    "df.show(5)"
   ]
  },
  {
   "cell_type": "code",
   "execution_count": 33,
   "id": "6f721d73",
   "metadata": {},
   "outputs": [],
   "source": [
    "from pyspark.ml.regression import LinearRegression\n",
    "from pyspark.ml import Pipeline"
   ]
  },
  {
   "cell_type": "code",
   "execution_count": 34,
   "id": "9123eac7",
   "metadata": {},
   "outputs": [],
   "source": [
    "# stage_1 = StringIndexer(inputCol='Gender',  outputCol = 'GenderLabelEncode')\n",
    "# stage_2 = OneHotEncoder(inputCol='GenderLabelEncode', outputCol='GenderOneHot')\n",
    "# stage_3 = VectorAssembler(inputCols=['Head Size(cm^3)','Brain Weight(grams)'],\n",
    "#                           outputCol='vector')\n",
    "# stage_4 = LinearRegression(featuresCol='Head Size(cm^3)', labelCol='Brain Weight(grams)')\n",
    "# pipeline = Pipeline(stages=[stage_1, stage_2, stage_3, stage_4])\n",
    "# pipelineModel = pipeline.fit(df)\n",
    "# new_pred_df = pipelineModel.transform(df)"
   ]
  },
  {
   "cell_type": "code",
   "execution_count": 35,
   "id": "f50d3268",
   "metadata": {},
   "outputs": [],
   "source": [
    "features = df.drop(*['Gender', 'Age Range'])"
   ]
  },
  {
   "cell_type": "code",
   "execution_count": 36,
   "id": "0ec05de0",
   "metadata": {},
   "outputs": [
    {
     "name": "stdout",
     "output_type": "stream",
     "text": [
      "+---------------+-------------------+\n",
      "|Head Size(cm^3)|Brain Weight(grams)|\n",
      "+---------------+-------------------+\n",
      "|           4512|               1530|\n",
      "|           3738|               1297|\n",
      "|           4261|               1335|\n",
      "|           3777|               1282|\n",
      "|           4177|               1590|\n",
      "+---------------+-------------------+\n",
      "only showing top 5 rows\n",
      "\n"
     ]
    }
   ],
   "source": [
    "features.show(5)"
   ]
  },
  {
   "cell_type": "code",
   "execution_count": 37,
   "id": "2dc8490e",
   "metadata": {},
   "outputs": [],
   "source": [
    "X = features.drop('Brain Weight(grams)')"
   ]
  },
  {
   "cell_type": "code",
   "execution_count": 38,
   "id": "f967d01b",
   "metadata": {},
   "outputs": [],
   "source": [
    "assembler = VectorAssembler(inputCols=X.columns, outputCol='features')"
   ]
  },
  {
   "cell_type": "code",
   "execution_count": null,
   "id": "067879e2",
   "metadata": {},
   "outputs": [],
   "source": []
  },
  {
   "cell_type": "code",
   "execution_count": 39,
   "id": "e34a4b98",
   "metadata": {},
   "outputs": [],
   "source": [
    "output = assembler.transform(features).select('features', 'Brain Weight(grams)')"
   ]
  },
  {
   "cell_type": "code",
   "execution_count": 40,
   "id": "8bf23bfa",
   "metadata": {},
   "outputs": [
    {
     "name": "stdout",
     "output_type": "stream",
     "text": [
      "+--------+-------------------+\n",
      "|features|Brain Weight(grams)|\n",
      "+--------+-------------------+\n",
      "|[4512.0]|               1530|\n",
      "|[3738.0]|               1297|\n",
      "|[4261.0]|               1335|\n",
      "|[3777.0]|               1282|\n",
      "|[4177.0]|               1590|\n",
      "+--------+-------------------+\n",
      "only showing top 5 rows\n",
      "\n"
     ]
    }
   ],
   "source": [
    "output.show(5)"
   ]
  },
  {
   "cell_type": "code",
   "execution_count": 41,
   "id": "32962161",
   "metadata": {},
   "outputs": [],
   "source": [
    "regression = LinearRegression(featuresCol='features', labelCol='Brain Weight(grams)')"
   ]
  },
  {
   "cell_type": "code",
   "execution_count": 42,
   "id": "0f822828",
   "metadata": {},
   "outputs": [],
   "source": [
    "regression_model = regression.fit(output)"
   ]
  },
  {
   "cell_type": "code",
   "execution_count": 43,
   "id": "f820bf2a",
   "metadata": {},
   "outputs": [
    {
     "data": {
      "text/plain": [
       "DenseVector([0.2634])"
      ]
     },
     "execution_count": 43,
     "metadata": {},
     "output_type": "execute_result"
    }
   ],
   "source": [
    "regression_model.coefficients"
   ]
  },
  {
   "cell_type": "code",
   "execution_count": 44,
   "id": "eb82897d",
   "metadata": {},
   "outputs": [
    {
     "data": {
      "text/plain": [
       "325.5734210494322"
      ]
     },
     "execution_count": 44,
     "metadata": {},
     "output_type": "execute_result"
    }
   ],
   "source": [
    "regression_model.intercept"
   ]
  },
  {
   "cell_type": "code",
   "execution_count": 45,
   "id": "d4f62e95",
   "metadata": {},
   "outputs": [
    {
     "data": {
      "text/plain": [
       "72.12062137837093"
      ]
     },
     "execution_count": 45,
     "metadata": {},
     "output_type": "execute_result"
    }
   ],
   "source": [
    "regression_model.summary.rootMeanSquaredError"
   ]
  },
  {
   "cell_type": "code",
   "execution_count": 46,
   "id": "d313e964",
   "metadata": {},
   "outputs": [
    {
     "data": {
      "text/plain": [
       "0.6393117199570006"
      ]
     },
     "execution_count": 46,
     "metadata": {},
     "output_type": "execute_result"
    }
   ],
   "source": [
    "regression_model.summary.r2"
   ]
  },
  {
   "cell_type": "code",
   "execution_count": 58,
   "id": "f6b35a6b",
   "metadata": {},
   "outputs": [],
   "source": [
    "regression_model.save('reg_model.model')"
   ]
  },
  {
   "cell_type": "code",
   "execution_count": 59,
   "id": "8b36ce3f",
   "metadata": {},
   "outputs": [],
   "source": [
    "from pyspark.ml.regression import LinearRegressionModel"
   ]
  },
  {
   "cell_type": "code",
   "execution_count": 60,
   "id": "382a9971",
   "metadata": {},
   "outputs": [],
   "source": [
    "reg_model_loaded = LinearRegressionModel.load('reg_model.model')"
   ]
  },
  {
   "cell_type": "code",
   "execution_count": null,
   "id": "a2475785",
   "metadata": {},
   "outputs": [],
   "source": []
  }
 ],
 "metadata": {
  "kernelspec": {
   "display_name": "Python 3 (ipykernel)",
   "language": "python",
   "name": "python3"
  },
  "language_info": {
   "codemirror_mode": {
    "name": "ipython",
    "version": 3
   },
   "file_extension": ".py",
   "mimetype": "text/x-python",
   "name": "python",
   "nbconvert_exporter": "python",
   "pygments_lexer": "ipython3",
   "version": "3.9.7"
  }
 },
 "nbformat": 4,
 "nbformat_minor": 5
}
